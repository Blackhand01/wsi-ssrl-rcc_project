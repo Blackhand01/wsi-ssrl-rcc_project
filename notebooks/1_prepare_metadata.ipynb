{
  "cells": [
    {
      "cell_type": "markdown",
      "id": "62597a13",
      "metadata": {
        "id": "62597a13"
      },
      "source": [
        "Preparing Unified Metadata for the RCC Dataset\n",
        "This notebook performs the following steps:\n",
        "\n",
        "1. Loads mapping JSON files for ccRCC, pRCC, CHROMO, and ONCO.\n",
        "2. Loads dataset statistics.\n",
        "3. Verifies that the number of mapped files matches the statistics.\n",
        "4. Constructs a unified table with one row per WSI, including annotations and ROIs.\n",
        "5. Exports the result to a CSV file for the downstream training pipeline.\n",
        "\n",
        "---"
      ]
    },
    {
      "cell_type": "code",
      "execution_count": 147,
      "id": "gkcbGFx8t8Rt",
      "metadata": {
        "colab": {
          "base_uri": "https://localhost:8080/"
        },
        "id": "gkcbGFx8t8Rt",
        "outputId": "82e88386-0d06-4d2a-a8e3-def5c288e268"
      },
      "outputs": [
        {
          "output_type": "stream",
          "name": "stdout",
          "text": [
            "Drive already mounted at /content/drive; to attempt to forcibly remount, call drive.mount(\"/content/drive\", force_remount=True).\n"
          ]
        }
      ],
      "source": [
        "from google.colab import drive\n",
        "drive.mount('/content/drive')"
      ]
    },
    {
      "cell_type": "code",
      "source": [
        "!pip install pyyaml pandas"
      ],
      "metadata": {
        "colab": {
          "base_uri": "https://localhost:8080/"
        },
        "id": "Gkz0xzHlaFHI",
        "outputId": "50447bb3-5309-4943-fa13-c6eb60c33d10"
      },
      "id": "Gkz0xzHlaFHI",
      "execution_count": 148,
      "outputs": [
        {
          "output_type": "stream",
          "name": "stdout",
          "text": [
            "Requirement already satisfied: pyyaml in /usr/local/lib/python3.11/dist-packages (6.0.2)\n",
            "Requirement already satisfied: pandas in /usr/local/lib/python3.11/dist-packages (2.2.2)\n",
            "Requirement already satisfied: numpy>=1.23.2 in /usr/local/lib/python3.11/dist-packages (from pandas) (2.0.2)\n",
            "Requirement already satisfied: python-dateutil>=2.8.2 in /usr/local/lib/python3.11/dist-packages (from pandas) (2.9.0.post0)\n",
            "Requirement already satisfied: pytz>=2020.1 in /usr/local/lib/python3.11/dist-packages (from pandas) (2025.2)\n",
            "Requirement already satisfied: tzdata>=2022.7 in /usr/local/lib/python3.11/dist-packages (from pandas) (2025.2)\n",
            "Requirement already satisfied: six>=1.5 in /usr/local/lib/python3.11/dist-packages (from python-dateutil>=2.8.2->pandas) (1.17.0)\n"
          ]
        }
      ]
    },
    {
      "cell_type": "code",
      "execution_count": 149,
      "id": "N-hIbL57uvuA",
      "metadata": {
        "id": "N-hIbL57uvuA"
      },
      "outputs": [],
      "source": [
        "from pathlib import Path\n",
        "import yaml\n",
        "\n",
        "yaml_path = Path('/content/drive/MyDrive/ColabNotebooks/wsi-ssrl-rcc_project/config/preprocessing.yaml')\n",
        "if not yaml_path.exists():\n",
        "    yaml_path = Path('config/preprocessing.yaml')\n",
        "\n",
        "# Cell 2 – Load and resolve preprocessing.yaml, substitute placeholders\n",
        "import yaml\n",
        "from pathlib import Path\n",
        "import copy\n",
        "\n",
        "class ConfigLoader:\n",
        "    \"\"\"\n",
        "    Load preprocessing.yaml, select environment, and substitute placeholders.\n",
        "    \"\"\"\n",
        "    def __init__(self, yaml_path: Path):\n",
        "        self.yaml_path = yaml_path\n",
        "        self.raw_cfg = self._load_yaml()\n",
        "        self.resolved_base = self._select_environment()\n",
        "        self.cfg = self._substitute_placeholders()\n",
        "\n",
        "    def _load_yaml(self) -> dict:\n",
        "        return yaml.safe_load(self.yaml_path.read_text())\n",
        "\n",
        "    def _select_environment(self) -> Path:\n",
        "        \"\"\"Choose between colab and local base paths.\"\"\"\n",
        "        env = self.raw_cfg['environment']\n",
        "        colab_root = Path(env['colab'])\n",
        "        local_root = Path(env['local'])\n",
        "        if colab_root.exists():\n",
        "            return colab_root\n",
        "        if local_root.exists():\n",
        "            return local_root\n",
        "        raise FileNotFoundError(\"Neither colab nor local environment path found.\")\n",
        "\n",
        "    def _substitute_placeholders(self) -> dict:\n",
        "        \"\"\"\n",
        "        Resolve 'base' section, then substitute:\n",
        "          - ${RESOLVED_BASE_DIR} → resolved_base\n",
        "          - ${base.<key>}          → base[key]\n",
        "        across data_paths, stage_overrides, patching_defaults.\n",
        "        \"\"\"\n",
        "        cfg = copy.deepcopy(self.raw_cfg)\n",
        "\n",
        "        # 1. Resolve base section\n",
        "        base_section = cfg['base']\n",
        "        resolved_base = str(self.resolved_base)\n",
        "        resolved_base_section = {}\n",
        "        for k, v in base_section.items():\n",
        "            if isinstance(v, str):\n",
        "                resolved = v.replace('${RESOLVED_BASE_DIR}', resolved_base)\n",
        "            else:\n",
        "                resolved = v\n",
        "            resolved_base_section[k] = resolved\n",
        "        cfg['base'] = resolved_base_section\n",
        "\n",
        "        # 2. Prepare placeholder map\n",
        "        placeholders = {'${RESOLVED_BASE_DIR}': resolved_base}\n",
        "        for k, v in resolved_base_section.items():\n",
        "            placeholders[f'${{base.{k}}}'] = str(v)\n",
        "\n",
        "        # 3. Recursive replacement helper\n",
        "        def replace(obj):\n",
        "            if isinstance(obj, str):\n",
        "                for ph, val in placeholders.items():\n",
        "                    obj = obj.replace(ph, val)\n",
        "                return obj\n",
        "            if isinstance(obj, dict):\n",
        "                return {k: replace(v) for k, v in obj.items()}\n",
        "            if isinstance(obj, list):\n",
        "                return [replace(v) for v in obj]\n",
        "            return obj\n",
        "\n",
        "        # 4. Apply to relevant sections\n",
        "        for section in ['data_paths', 'stage_overrides', 'patching_defaults']:\n",
        "            if section in cfg:\n",
        "                cfg[section] = replace(cfg[section])\n",
        "\n",
        "        return cfg\n",
        "\n",
        "class PathResolver:\n",
        "    \"\"\"\n",
        "    Resolve all filesystem paths from config, mapping data_paths under data_root\n",
        "    into raw WSI paths under dataraw_root.\n",
        "    \"\"\"\n",
        "    def __init__(self, cfg: dict):\n",
        "        b  = cfg['base']\n",
        "        dp = cfg['data_paths']\n",
        "\n",
        "        # roots\n",
        "        self.project_root  = Path(b['project_root'])\n",
        "        self.data_root     = Path(b['data_root'])\n",
        "        self.dataraw_root  = Path(b['dataraw_root'])\n",
        "        self.mapping_root  = Path(b['mapping_root'])\n",
        "        self.metadata_root = Path(b['metadata_root'])\n",
        "\n",
        "        # helper: take any path under data_root and map to dataraw_root\n",
        "        def to_raw(path_str: str) -> Path:\n",
        "            p   = Path(path_str)\n",
        "            rel = p.relative_to(self.data_root)\n",
        "            return self.dataraw_root / rel\n",
        "\n",
        "        # neoplastic WSI & XML\n",
        "        self.ccrcc_wsi     = to_raw(dp['ccRCC']['wsi'])\n",
        "        self.ccrcc_xml     = to_raw(dp['ccRCC']['xml'])\n",
        "        self.pre_ccrcc_wsi = to_raw(dp['ccRCC']['pre']['wsi'])\n",
        "        self.pre_ccrcc_xml = to_raw(dp['ccRCC']['pre']['xml'])\n",
        "\n",
        "        self.prcc_wsi      = to_raw(dp['pRCC']['wsi'])\n",
        "        self.prcc_xml      = to_raw(dp['pRCC']['xml'])\n",
        "        self.pre_prcc_wsi  = to_raw(dp['pRCC']['pre']['wsi'])\n",
        "        self.pre_prcc_xml  = to_raw(dp['pRCC']['pre']['xml'])\n",
        "\n",
        "        # CHROMO & ONCO ROI dirs\n",
        "        self.chromo_wsi         = to_raw(dp['CHROMO']['wsi'])\n",
        "        self.chromo_annotations = to_raw(dp['CHROMO']['annotations'])\n",
        "        self.onco_wsi           = to_raw(dp['ONCO']['wsi'])\n",
        "        self.onco_annotations   = to_raw(dp['ONCO']['annotations'])\n",
        "\n",
        "config_loader = ConfigLoader(yaml_path)\n",
        "cfg = config_loader.cfg"
      ]
    },
    {
      "cell_type": "code",
      "execution_count": 150,
      "id": "-U4HkUZrupGU",
      "metadata": {
        "id": "-U4HkUZrupGU"
      },
      "outputs": [],
      "source": [
        "# Cella 3 – JSON loader and consistency validator\n",
        "import json\n",
        "from pathlib import Path\n",
        "\n",
        "class JSONLoader:\n",
        "    \"\"\"\n",
        "    Load JSON file and return a Python dict.\n",
        "    \"\"\"\n",
        "    @staticmethod\n",
        "    def load(file_path: Path) -> dict:\n",
        "        return json.loads(file_path.read_text())\n",
        "\n",
        "class Validator:\n",
        "    \"\"\"\n",
        "    Validate that actual counts match expected statistics.\n",
        "    \"\"\"\n",
        "    @staticmethod\n",
        "    def ensure_equal(name: str, actual: int, expected: int):\n",
        "        if actual != expected:\n",
        "            raise ValueError(f\"[{name}] count mismatch: actual={actual}, expected={expected}\")\n"
      ]
    },
    {
      "cell_type": "code",
      "execution_count": 151,
      "id": "YsAUYhGvuxqP",
      "metadata": {
        "id": "YsAUYhGvuxqP"
      },
      "outputs": [],
      "source": [
        "# Cella 4 – Utilities for path relativity, patient ID extraction, and row building\n",
        "from pathlib import Path\n",
        "\n",
        "def relative_posix(path: Path, base: Path) -> str:\n",
        "    \"\"\"\n",
        "    Return POSIX-style relative path from base to path.\n",
        "    \"\"\"\n",
        "    return str(path.relative_to(base).as_posix())\n",
        "\n",
        "def extract_patient_id(wsi_filename: str) -> str:\n",
        "    \"\"\"\n",
        "    Extract patient ID from WSI filename by:\n",
        "      1) dropping any suffix after the first underscore;\n",
        "      2) splitting on dot and taking the first two segments.\n",
        "    Examples:\n",
        "      'HP02.10180.1A2.ccRCC.scn'      -> 'HP02.10180'\n",
        "      'HP10.2986_A4_ccRCC.scn'        -> 'HP10.2986'\n",
        "      'HP12.6073_A5_ccRCC.scn'        -> 'HP12.6073'\n",
        "      'HP14.5971.something_else.svs'  -> 'HP14.5971'\n",
        "    \"\"\"\n",
        "    # 1) part before underscore\n",
        "    base = wsi_filename.split('_', 1)[0]\n",
        "    # 2) split by dot and join first two\n",
        "    parts = base.split('.')\n",
        "    return '.'.join(parts[:2]) if len(parts) >= 2 else parts[0]\n",
        "\n",
        "\n",
        "class RowBuilder:\n",
        "    \"\"\"\n",
        "    Build metadata rows for neoplastic and ROI-based subtypes,\n",
        "    computing source_dir relative to RAW WSI root.\n",
        "    \"\"\"\n",
        "    def __init__(self, raw_root: Path):\n",
        "        self.raw_root = raw_root\n",
        "\n",
        "    def build_neoplastic(self, mapping: dict, subtype: str,\n",
        "                         wsi_dir: Path, xml_dir: Path,\n",
        "                         pre_wsi_dir: Path, pre_xml_dir: Path) -> list:\n",
        "        rows = []\n",
        "        for wsi_file, xml_list in mapping.items():\n",
        "            std_path = wsi_dir / wsi_file\n",
        "            pre_path = pre_wsi_dir / wsi_file\n",
        "            if std_path.exists():\n",
        "                src = relative_posix(wsi_dir, self.raw_root)\n",
        "            elif pre_path.exists():\n",
        "                src = relative_posix(pre_wsi_dir, self.raw_root)\n",
        "            else:\n",
        "                src = \"\"\n",
        "            rows.append({\n",
        "                \"subtype\":         subtype,\n",
        "                \"patient_id\":      extract_patient_id(wsi_file),\n",
        "                \"wsi_filename\":    wsi_file,\n",
        "                \"annotation_xml\":  \";\".join(xml_list),\n",
        "                \"num_annotations\": len(xml_list),\n",
        "                \"roi_files\":       \"\",\n",
        "                \"num_rois\":        0,\n",
        "                \"source_dir\":      src\n",
        "            })\n",
        "        return rows\n",
        "\n",
        "    def build_roi(self, patient_map: dict, subtype: str,\n",
        "                  wsi_dir: Path, annotation_dir: Path) -> list:\n",
        "        rows = []\n",
        "        for patient, info in patient_map.items():\n",
        "            roi_files = info.get(\"roi_files\", [])\n",
        "            for wsi_file in info.get(\"wsi_files\", []):\n",
        "                rows.append({\n",
        "                    \"subtype\":         subtype,\n",
        "                    \"patient_id\":      patient,\n",
        "                    \"wsi_filename\":    wsi_file,\n",
        "                    \"annotation_xml\":  \"\",\n",
        "                    \"num_annotations\": 0,\n",
        "                    \"roi_files\":       \";\".join(roi_files),\n",
        "                    \"num_rois\":        len(roi_files),\n",
        "                    \"source_dir\":      relative_posix(wsi_dir, self.raw_root)\n",
        "                })\n",
        "        return rows\n"
      ]
    },
    {
      "cell_type": "code",
      "execution_count": 152,
      "id": "OofrNvEOvVra",
      "metadata": {
        "id": "OofrNvEOvVra"
      },
      "outputs": [],
      "source": [
        "# Cella 5 – Main orchestrator to load, validate, build and export metadata.csv\n",
        "import pandas as pd\n",
        "from pathlib import Path\n",
        "\n",
        "class MetadataBuilder:\n",
        "    \"\"\"\n",
        "    Orchestrates loading of mappings, validation, row building, and CSV export.\n",
        "    \"\"\"\n",
        "    def __init__(self, cfg: dict):\n",
        "        self.cfg       = cfg\n",
        "        self.paths     = PathResolver(cfg)\n",
        "        self.loader    = JSONLoader()\n",
        "        self.validator = Validator()\n",
        "        # <-- use dataraw_root here\n",
        "        self.builder   = RowBuilder(self.paths.dataraw_root)\n",
        "\n",
        "        self.map_root  = self.paths.mapping_root\n",
        "        self.out_csv   = self.paths.metadata_root / \"metadata.csv\"\n",
        "\n",
        "    def build_metadata(self):\n",
        "        # 1. Load JSON mappings & stats\n",
        "        cc_map     = self.loader.load(self.map_root / \"ccRCC_mapping.json\")\n",
        "        pr_map     = self.loader.load(self.map_root / \"pRCC_mapping.json\")\n",
        "        chromo_map = self.loader.load(self.map_root / \"CHROMO_patient_mapping.json\")\n",
        "        onco_map   = self.loader.load(self.map_root / \"ONCO_patient_mapping.json\")\n",
        "        stats      = self.loader.load(self.map_root / \"rcc_dataset_stats.json\")\n",
        "\n",
        "        # 2. Validate counts\n",
        "        self.validator.ensure_equal(\"ccRCC\", len(cc_map), stats[\"ccRCC\"][\"n_wsis\"])\n",
        "        self.validator.ensure_equal(\"pRCC\",  len(pr_map), stats[\"pRCC\"][\"n_wsis\"])\n",
        "        actual_ch = sum(len(v[\"wsi_files\"]) for v in chromo_map.values())\n",
        "        self.validator.ensure_equal(\"CHROMO\", actual_ch, stats[\"CHROMO\"][\"n_wsis\"])\n",
        "        actual_on = sum(len(v[\"wsi_files\"]) for v in onco_map.values())\n",
        "        self.validator.ensure_equal(\"ONCO\",   actual_on, stats[\"ONCO\"][\"n_wsis\"])\n",
        "\n",
        "        # 3. Build rows\n",
        "        rows = []\n",
        "        rows += self.builder.build_neoplastic(\n",
        "            cc_map, \"ccRCC\",\n",
        "            self.paths.ccrcc_wsi,    self.paths.ccrcc_xml,\n",
        "            self.paths.pre_ccrcc_wsi, self.paths.pre_ccrcc_xml\n",
        "        )\n",
        "        rows += self.builder.build_neoplastic(\n",
        "            pr_map, \"pRCC\",\n",
        "            self.paths.prcc_wsi,     self.paths.prcc_xml,\n",
        "            self.paths.pre_prcc_wsi,  self.paths.pre_prcc_xml\n",
        "        )\n",
        "        rows += self.builder.build_roi(\n",
        "            chromo_map, \"CHROMO\",\n",
        "            self.paths.chromo_wsi,   self.paths.chromo_annotations\n",
        "        )\n",
        "        rows += self.builder.build_roi(\n",
        "            onco_map,   \"ONCO\",\n",
        "            self.paths.onco_wsi,     self.paths.onco_annotations\n",
        "        )\n",
        "\n",
        "        # 4. Create DataFrame\n",
        "        df = pd.DataFrame(rows)\n",
        "\n",
        "        # 5. Filter out rows with no annotations AND no ROIs\n",
        "        df = df[~((df['num_annotations'] == 0) & (df['num_rois'] == 0))]\n",
        "\n",
        "        # 6. Export to CSV\n",
        "        self.out_csv.parent.mkdir(parents=True, exist_ok=True)\n",
        "        df.to_csv(self.out_csv, index=False)\n",
        "        print(f\"✅ Consolidated metadata saved to {self.out_csv} ({len(df)} entries)\")\n",
        "        return df\n"
      ]
    },
    {
      "cell_type": "code",
      "source": [
        "# Cella 6 – Load config and run metadata build\n",
        "\n",
        "config = ConfigLoader(yaml_path).cfg\n",
        "builder = MetadataBuilder(config)\n",
        "df = builder.build_metadata()"
      ],
      "metadata": {
        "colab": {
          "base_uri": "https://localhost:8080/"
        },
        "id": "4KKgPnWgaQdq",
        "outputId": "1159133e-50b0-4102-b8e2-51bdc1f5ae37"
      },
      "id": "4KKgPnWgaQdq",
      "execution_count": 153,
      "outputs": [
        {
          "output_type": "stream",
          "name": "stdout",
          "text": [
            "✅ Consolidated metadata saved to /content/drive/MyDrive/ColabNotebooks/wsi-ssrl-rcc_project/data/mapping/metadata.csv (196 entries)\n"
          ]
        }
      ]
    },
    {
      "cell_type": "code",
      "source": [
        "# Cell 7 – Strict patient_id validation for ccRCC/pRCC\n",
        "import re\n",
        "from IPython.display import display\n",
        "\n",
        "# CHROMO and ONCO are exempt\n",
        "exempt_subtypes = {\"CHROMO\", \"ONCO\"}\n",
        "\n",
        "# Strict pattern: HP<digits>.<digits>, e.g. HP14.5971\n",
        "patient_pattern = re.compile(r'^HP?\\d+\\.\\d+$')\n",
        "\n",
        "# Select only ccRCC and pRCC rows\n",
        "mask_ccpcc = df['subtype'].isin(['ccRCC', 'pRCC'])\n",
        "\n",
        "# Find rows where patient_id does NOT match the strict pattern\n",
        "invalid_id_df = df[mask_ccpcc & ~df['patient_id'].str.match(patient_pattern)]\n",
        "\n",
        "# Report\n",
        "print(f\"source_dir:{df.source_dir.unique()}\\n\")\n",
        "print(f\"subtype:{df.subtype.unique()}\\n\")\n",
        "print(f\"Distinct patients:{len(df.patient_id.unique())}\\n\")\n",
        "print(f\"All patient_id:{len(df.patient_id)}\\n\")\n",
        "print(f\"All distinct patients:{df.patient_id.unique()}\\n\")\n",
        "\n",
        "print(f\"🔴 Invalid patient_id for ccRCC/pRCC: {len(invalid_id_df)} rows\")\n",
        "# display(invalid_id_df)\n",
        "\n",
        "# 2. Rows with neither annotations nor ROIs\n",
        "no_annotation_roi_df = df[(df['num_annotations'] == 0) & (df['num_rois'] == 0)]\n",
        "print(f\"\\n🔴 Rows with no annotations AND no ROIs: {len(no_annotation_roi_df)} rows\")\n",
        "# display(no_annotation_roi_df)"
      ],
      "metadata": {
        "colab": {
          "base_uri": "https://localhost:8080/"
        },
        "id": "Uu23YOcWciob",
        "outputId": "392a9682-87b2-4bad-9432-517385a33a69"
      },
      "id": "Uu23YOcWciob",
      "execution_count": 171,
      "outputs": [
        {
          "output_type": "stream",
          "name": "stdout",
          "text": [
            "source_dir:['ccRCC' 'pre/ccRCC' 'pRCC' 'pre/pRCC' 'CHROMO' 'ONCOCYTOMA']\n",
            "\n",
            "subtype:['ccRCC' 'pRCC' 'CHROMO' 'ONCO']\n",
            "\n",
            "Distinct patients:88\n",
            "\n",
            "All patient_id:196\n",
            "\n",
            "All distinct patients:['HP19.754' 'HP19.10064' 'HP19.4372' 'HP19.8394' 'HP19.5524' 'HP19.7949'\n",
            " 'HP19.7840' 'HP19.9347' 'HP19.4075' 'HP19.3695' 'HP19.9421' 'HP19.999'\n",
            " 'HP19.7715' 'HP19.2434' 'HP19.7421' 'H19.754' 'HP19.5254' 'HP19.7864'\n",
            " 'HP15.12550' 'HP12.8355' 'HP12.9282' 'HP14.1749' 'HP13.7465' 'HP12.6691'\n",
            " 'HP14.7813' 'HP14.11034' 'HP11.12318' 'HP10.2695' 'HP12.7225' 'HP16.819'\n",
            " 'HP12.390' 'HP10.2986' 'HP13.1799' 'HP12.6073' 'HP02.10180' 'HP15.11259'\n",
            " 'HP12.3187' 'HP14.5347' 'HP15.2902' 'HP16.6209' 'HP14.1993' 'HP12.4271'\n",
            " 'HP15.1480' 'HP14.9097' 'HP12.8793' 'HP12.13358' 'HP10.5813' 'HP13.6992'\n",
            " 'HP11.12277' 'HP12.13588' 'HP14.9685' 'HP14.69' 'HP16.6211' 'HP12.5998'\n",
            " 'HP14.13101' 'HP14.5590' 'HP17.11714' 'HP18.5818' 'HP19.1773' 'HP17.7980'\n",
            " 'HP18.11474' 'HP19.1277' 'HP18.13618' 'HP12.6710' 'HP14.10122'\n",
            " 'HP12.7726' 'HP14.5971' 'HP10.9650' 'HP14.2377' 'HP12.5904' 'HP12.7601'\n",
            " 'HP09.5392' 'HP13.3201' 'HP13.3311' 'HP14.8231' 'HP11.6090' 'HP15.9102'\n",
            " 'HP14.4279' 'HP20.2506' 'HP19012316' 'HP18014084' 'HP17008718'\n",
            " 'HP20002300' 'HP18005453' 'HP20.5602' 'HP20002450' 'HP20001530'\n",
            " 'HP18009209']\n",
            "\n",
            "🔴 Invalid patient_id for ccRCC/pRCC: 0 rows\n",
            "\n",
            "🔴 Rows with no annotations AND no ROIs: 0 rows\n"
          ]
        }
      ]
    },
    {
      "source": [
        "# @title subtype\n",
        "\n",
        "from matplotlib import pyplot as plt\n",
        "import seaborn as sns\n",
        "df.groupby('subtype').size().plot(kind='barh', color=sns.palettes.mpl_palette('Dark2'))\n",
        "plt.gca().spines[['top', 'right',]].set_visible(False)"
      ],
      "cell_type": "code",
      "execution_count": 155,
      "outputs": [
        {
          "output_type": "display_data",
          "data": {
            "text/plain": [
              "<Figure size 640x480 with 1 Axes>"
            ],
            "image/png": "[encoded data removed]"
          },
          "metadata": {}
        }
      ],
      "metadata": {
        "colab": {
          "base_uri": "https://localhost:8080/",
          "height": 430
        },
        "id": "PmGyw7URc40P",
        "outputId": "917a6563-293a-406d-cf16-514f8b6cbe13"
      },
      "id": "PmGyw7URc40P"
    }
  ],
  "metadata": {
    "colab": {
      "provenance": []
    },
    "jupytext": {
      "cell_metadata_filter": "title,-all",
      "main_language": "python",
      "notebook_metadata_filter": "-all"
    },
    "kernelspec": {
      "display_name": "wsi-ssrl",
      "language": "python",
      "name": "python3"
    },
    "language_info": {
      "name": "python",
      "version": "3.10.13"
    }
  },
  "nbformat": 4,
  "nbformat_minor": 5
}