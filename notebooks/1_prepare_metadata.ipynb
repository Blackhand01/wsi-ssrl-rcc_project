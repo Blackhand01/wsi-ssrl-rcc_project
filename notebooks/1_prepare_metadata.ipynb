{
 "cells": [
  {
   "cell_type": "markdown",
   "id": "62597a13",
   "metadata": {},
   "source": [
    "Preparing Unified Metadata for the RCC Dataset\n",
    "This notebook performs the following steps:\n",
    "\n",
    "1. Loads mapping JSON files for ccRCC, pRCC, CHROMO, and ONCO.\n",
    "2. Loads dataset statistics.\n",
    "3. Verifies that the number of mapped files matches the statistics.\n",
    "4. Constructs a unified table with one row per WSI, including annotations and ROIs.\n",
    "5. Exports the result to a CSV file for the downstream training pipeline.\n",
    "\n",
    "---"
   ]
  },
  {
   "cell_type": "code",
   "execution_count": 85,
   "id": "f927bf85",
   "metadata": {
    "lines_to_next_cell": 1,
    "title": "[code]"
   },
   "outputs": [],
   "source": [
    "\"\"\"\n",
    "load_json(path: Path) -> dict\n",
    "\n",
    "Reads a JSON file from the given path and returns its contents as a dictionary.\n",
    "\"\"\"\n",
    "import json\n",
    "from pathlib import Path\n",
    "\n",
    "base_path = Path.cwd().parent  # cartella principale del progetto\n",
    "\n",
    "def load_json(path: Path) -> dict:\n",
    "    return json.loads(path.read_text())"
   ]
  },
  {
   "cell_type": "code",
   "execution_count": 86,
   "id": "e84522d0",
   "metadata": {
    "lines_to_next_cell": 1,
    "title": "[code]"
   },
   "outputs": [],
   "source": [
    "\"\"\"\n",
    "resolve_config(cfg_path: Path) -> (Path, dict)\n",
    "\n",
    "Reads a YAML configuration file and returns:\n",
    "  - base_dir: the expanded base directory\n",
    "  - paths: a dict mapping keys to Path objects with ${base_dir} resolved\n",
    "\"\"\"\n",
    "import yaml\n",
    "\n",
    "def resolve_config(cfg_path: Path):\n",
    "    cfg = yaml.safe_load(cfg_path.read_text())\n",
    "    base_dir = Path(cfg[\"base_dir\"]).expanduser()\n",
    "    def R(p: str) -> Path:\n",
    "        return Path(str(p).replace(\"${base_dir}\", str(base_dir))).expanduser()\n",
    "    paths = {key: R(val) for key, val in cfg[\"paths\"].items()}\n",
    "    return base_dir, paths"
   ]
  },
  {
   "cell_type": "code",
   "execution_count": 87,
   "id": "2f16883b",
   "metadata": {
    "lines_to_next_cell": 1,
    "title": "[code]"
   },
   "outputs": [],
   "source": [
    "\"\"\"\n",
    "check_equal(name: str, actual: int, expected: int)\n",
    "\n",
    "Raises a ValueError if actual and expected integers differ.\n",
    "\"\"\"\n",
    "\n",
    "def check_equal(name: str, actual: int, expected: int):\n",
    "    if actual != expected:\n",
    "        raise ValueError(f\"Statistics mismatch for {name}: mapped {actual} vs expected {expected}\")"
   ]
  },
  {
   "cell_type": "code",
   "execution_count": 88,
   "id": "d46a9fb3",
   "metadata": {
    "lines_to_next_cell": 1,
    "title": "[code]"
   },
   "outputs": [],
   "source": [
    "\"\"\"\n",
    "rel(path: Path, base: Path) -> str\n",
    "\n",
    "Returns the POSIX-style relative path from base to path.\n",
    "\"\"\"\n",
    "\n",
    "def rel(path: Path, base: Path) -> str:\n",
    "    return str(path.relative_to(base).as_posix())"
   ]
  },
  {
   "cell_type": "markdown",
   "id": "66c1b957",
   "metadata": {},
   "source": [
    "# Building the Metadata Table\n",
    "The following cell:\n",
    "- Runs `scripts/build_mapping.py` to update mapping JSONs and statistics.\n",
    "- Loads mapping and stats JSON files.\n",
    "- Performs consistency checks.\n",
    "- Aggregates entries into a list of rows for each subtype."
   ]
  },
  {
   "cell_type": "code",
   "execution_count": null,
   "id": "0a6af196",
   "metadata": {
    "lines_to_next_cell": 1,
    "title": "[code]"
   },
   "outputs": [],
   "source": [
    "import subprocess\n",
    "import pandas as pd\n",
    "\n",
    "\n",
    "def build_metadata(cfg_file: str, mapdir: str, out_csv: str):\n",
    "    base_dir, paths = resolve_config(Path(cfg_file))\n",
    "\n",
    "    # Update mapping JSONs and statistics\n",
    "    subprocess.run([\n",
    "        \"python3\",\n",
    "        str(base_path / \"scripts/build_mapping.py\"),\n",
    "        \"--cfg\", str(cfg_file),\n",
    "        \"--out\", str(mapdir)\n",
    "    ], check=True)\n",
    "\n",
    "    # Load mappings and stats\n",
    "    cc_map     = load_json(Path(mapdir) / \"ccRCC_mapping.json\")\n",
    "    pr_map     = load_json(Path(mapdir) / \"pRCC_mapping.json\")\n",
    "    chromo_map = load_json(Path(mapdir) / \"CHROMO_patient_mapping.json\")\n",
    "    onco_map   = load_json(Path(mapdir) / \"ONCO_patient_mapping.json\")\n",
    "    stats      = load_json(Path(mapdir) / \"rcc_dataset_stats.json\")\n",
    "\n",
    "    # Consistency checks\n",
    "    check_equal(\"ccRCC\", len(cc_map), stats[\"ccRCC\"][\"n_wsis\"])\n",
    "    check_equal(\"pRCC\", len(pr_map), stats[\"pRCC\"][\"n_wsis\"])\n",
    "    total_chromo = sum(len(v[\"wsi_files\"]) for v in chromo_map.values())\n",
    "    check_equal(\"CHROMO\", total_chromo, stats[\"CHROMO\"][\"n_wsis\"])\n",
    "    total_onco = sum(len(v[\"wsi_files\"]) for v in onco_map.values())\n",
    "    check_equal(\"ONCO\", total_onco, stats[\"ONCO\"][\"n_wsis\"])\n",
    "\n",
    "    rows = []\n",
    "\n",
    "    # ccRCC entries\n",
    "    for wsi_name, xml_list in cc_map.items():\n",
    "        std_path = paths[\"ccrcc_wsi\"] / wsi_name\n",
    "        pre_path = paths[\"pre_ccrcc_wsi\"] / wsi_name\n",
    "        if std_path.exists():\n",
    "            source_dir = rel(paths[\"ccrcc_wsi\"], base_dir)\n",
    "        elif pre_path.exists():\n",
    "            source_dir = rel(paths[\"pre_ccrcc_wsi\"], base_dir)\n",
    "        else:\n",
    "            source_dir = \"\"\n",
    "\n",
    "        rows.append({\n",
    "            \"subtype\":        \"ccRCC\",\n",
    "            \"patient_id\":     wsi_name.split(\".\")[0],\n",
    "            \"wsi_filename\":   wsi_name,\n",
    "            \"annotation_xml\": \";\".join(xml_list),\n",
    "            \"num_annotations\": len(xml_list),\n",
    "            \"roi_files\":      \"\",\n",
    "            \"num_rois\":       0,\n",
    "            \"source_dir\":     source_dir\n",
    "        })\n",
    "\n",
    "    # pRCC entries\n",
    "    for wsi_name, xml_list in pr_map.items():\n",
    "        std_path = paths[\"prcc_wsi\"] / wsi_name\n",
    "        pre_path = paths[\"pre_prcc_wsi\"] / wsi_name\n",
    "        if std_path.exists():\n",
    "            source_dir = rel(paths[\"prcc_wsi\"], base_dir)\n",
    "        elif pre_path.exists():\n",
    "            source_dir = rel(paths[\"pre_prcc_wsi\"], base_dir)\n",
    "        else:\n",
    "            source_dir = \"\"\n",
    "\n",
    "        rows.append({\n",
    "            \"subtype\":        \"pRCC\",\n",
    "            \"patient_id\":     wsi_name.split(\".\")[0],\n",
    "            \"wsi_filename\":   wsi_name,\n",
    "            \"annotation_xml\": \";\".join(xml_list),\n",
    "            \"num_annotations\": len(xml_list),\n",
    "            \"roi_files\":      \"\",\n",
    "            \"num_rois\":       0,\n",
    "            \"source_dir\":     source_dir\n",
    "        })\n",
    "\n",
    "    # CHROMO entries\n",
    "    for patient_id, info in chromo_map.items():\n",
    "        roi_files = info[\"roi_files\"]\n",
    "        for wsi_name in info[\"wsi_files\"]:\n",
    "            rows.append({\n",
    "                \"subtype\":        \"CHROMO\",\n",
    "                \"patient_id\":     patient_id,\n",
    "                \"wsi_filename\":   wsi_name,\n",
    "                \"annotation_xml\": \"\",\n",
    "                \"num_annotations\": 0,\n",
    "                \"roi_files\":      \";\".join(roi_files),\n",
    "                \"num_rois\":       len(roi_files),\n",
    "                \"source_dir\":     rel(paths[\"chromo_wsi\"], base_dir)\n",
    "            })\n",
    "\n",
    "    # ONCO entries\n",
    "    for patient_id, info in onco_map.items():\n",
    "        roi_files = info[\"roi_files\"]\n",
    "        for wsi_name in info[\"wsi_files\"]:\n",
    "            rows.append({\n",
    "                \"subtype\":        \"ONCO\",\n",
    "                \"patient_id\":     patient_id,\n",
    "                \"wsi_filename\":   wsi_name,\n",
    "                \"annotation_xml\": \"\",\n",
    "                \"num_annotations\": 0,\n",
    "                \"roi_files\":      \";\".join(roi_files),\n",
    "                \"num_rois\":       len(roi_files),\n",
    "                \"source_dir\":     rel(paths[\"onco_wsi\"], base_dir)\n",
    "            })\n",
    "\n",
    "    # Create DataFrame and export to CSV\n",
    "    df = pd.DataFrame(rows)\n",
    "    output_path = Path(out_csv)\n",
    "    output_path.parent.mkdir(parents=True, exist_ok=True)\n",
    "    df.to_csv(output_path, index=False)\n",
    "\n",
    "    print(f\"✅ Unified metadata CSV saved to: {out_csv}\")\n",
    "    print(f\"Total entries: {len(df)}\")"
   ]
  },
  {
   "cell_type": "markdown",
   "id": "8772edfd",
   "metadata": {},
   "source": [
    "# Running the Notebook\n",
    "Adjust the configuration file path, mapping directory, and output CSV path below, then run the notebook."
   ]
  },
  {
   "cell_type": "code",
   "execution_count": 90,
   "id": "b0fd74f8",
   "metadata": {
    "title": "[code]"
   },
   "outputs": [
    {
     "name": "stdout",
     "output_type": "stream",
     "text": [
      "⚠️  ccRCC slides without any XML:\n",
      "    /Users/stefanoroybisignano/Library/CloudStorage/GoogleDrive-stefano2001roy@gmail.com/.shortcut-targets-by-id/1Vr1oH1irxY5UUXdrAgvX4dPpgb8-01Ma/RCC_WSIs/pre/ccRCC/HP10.2986.A4.ccRCC.scn\n",
      "⚠️  CHROMO WSI without mapping:\n",
      "    /Users/stefanoroybisignano/Library/CloudStorage/GoogleDrive-stefano2001roy@gmail.com/.shortcut-targets-by-id/1Vr1oH1irxY5UUXdrAgvX4dPpgb8-01Ma/RCC_WSIs/CHROMO/HP70605.svs\n",
      "⚠️  ONCO WSI without mapping:\n",
      "    /Users/stefanoroybisignano/Library/CloudStorage/GoogleDrive-stefano2001roy@gmail.com/.shortcut-targets-by-id/1Vr1oH1irxY5UUXdrAgvX4dPpgb8-01Ma/RCC_WSIs/ONCOCYTOMA/HP19008963-2-A-HE_1971.svs\n",
      "    /Users/stefanoroybisignano/Library/CloudStorage/GoogleDrive-stefano2001roy@gmail.com/.shortcut-targets-by-id/1Vr1oH1irxY5UUXdrAgvX4dPpgb8-01Ma/RCC_WSIs/ONCOCYTOMA/HP19008963-2-B-HE_1972.svs\n",
      "    /Users/stefanoroybisignano/Library/CloudStorage/GoogleDrive-stefano2001roy@gmail.com/.shortcut-targets-by-id/1Vr1oH1irxY5UUXdrAgvX4dPpgb8-01Ma/RCC_WSIs/ONCOCYTOMA/HP51171.svs\n",
      "\n",
      "✅ Mapping JSON files saved in /Users/stefanoroybisignano/Desktop/MLA/project/wsi-ssrl-rcc_project/data/processed/mapping\n",
      "\n",
      "📊 Dataset statistics:\n",
      "  ccRCC: {'n_wsis': 125, 'n_xml_annotations': 124, 'n_patients': 10}\n",
      "  pRCC: {'n_wsis': 48, 'n_xml_annotations': 48, 'n_patients': 10}\n",
      "  CHROMO: {'n_patients': 5, 'n_wsis': 11, 'n_roi_files': 13}\n",
      "  ONCO: {'n_patients': 5, 'n_wsis': 13, 'n_roi_files': 25}\n",
      "  ALL: {'total_wsis': 197, 'total_xmls': 172, 'total_roi_files': 38, 'total_patients': 30}\n",
      "✅ Unified metadata CSV saved to: /Users/stefanoroybisignano/Desktop/MLA/project/wsi-ssrl-rcc_project/data/processed/metadata.csv\n",
      "Total entries: 197\n"
     ]
    }
   ],
   "source": [
    "config_path = base_path / 'config/preprocessing.yaml'\n",
    "mapping_dir = base_path / 'data/processed/mapping'\n",
    "metadata_csv = base_path / 'data/processed/metadata.csv'\n",
    "\n",
    "if not config_path.exists():\n",
    "    print(f\"❌ Config file not found: {config_path}\")\n",
    "else:\n",
    "    build_metadata(str(config_path), str(mapping_dir), str(metadata_csv))\n"
   ]
  }
 ],
 "metadata": {
  "jupytext": {
   "cell_metadata_filter": "title,-all",
   "main_language": "python",
   "notebook_metadata_filter": "-all"
  },
  "language_info": {
   "name": "python"
  }
 },
 "nbformat": 4,
 "nbformat_minor": 5
}
