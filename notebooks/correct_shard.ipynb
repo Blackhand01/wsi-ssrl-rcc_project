{
 "cells": [
  {
   "cell_type": "code",
   "execution_count": 7,
   "id": "45de8b49",
   "metadata": {},
   "outputs": [
    {
     "name": "stdout",
     "output_type": "stream",
     "text": [
      "📦 Source contains 963 .jpg members\n"
     ]
    },
    {
     "name": "stderr",
     "output_type": "stream",
     "text": [
      "Re-packing: 100%|██████████| 963/963 [00:00<00:00, 5114.54it/s]"
     ]
    },
    {
     "name": "stdout",
     "output_type": "stream",
     "text": [
      "✅ Finished. New shard saved → /Users/stefanoroybisignano/Desktop/MLA/project/wsi-ssrl-rcc_project/data/processed/dataset_7b24514c/webdataset2/test/patches-0000.tar\n"
     ]
    },
    {
     "name": "stderr",
     "output_type": "stream",
     "text": [
      "\n"
     ]
    },
    {
     "name": "stdout",
     "output_type": "stream",
     "text": [
      "🧾 JPG in tar   : 963\n",
      "🧪 Samples read : 963\n"
     ]
    }
   ],
   "source": [
    "# ⬇️ 3_fix_webdataset.py  ───────────────────────────────────────────────\n",
    "\"\"\"\n",
    "Convert a WebDataset shard created by the *new* pipeline into a shard that\n",
    "behaves like the *old* one (no __key__, no dots inside the name).\n",
    "\n",
    "Usage:\n",
    "- Update SRC_TAR_PATH and DST_TAR_PATH below.\n",
    "- Run this cell; it creates the destination shard and prints a final check.\n",
    "\"\"\"\n",
    "\n",
    "from pathlib import Path\n",
    "import tarfile, io, os, shutil\n",
    "from tqdm.auto import tqdm\n",
    "\n",
    "# ────────────────────────────────────────────────────────────────────────\n",
    "# 🔧 CONFIG – edit only these two paths\n",
    "SRC_TAR_PATH = Path(\n",
    "    \"/Users/stefanoroybisignano/Desktop/MLA/project/wsi-ssrl-rcc_project/\"\n",
    "    \"data/processed/dataset_7b24514c/webdataset/test/patches-0000.tar\"\n",
    ")\n",
    "DST_TAR_PATH = Path(\n",
    "    \"/Users/stefanoroybisignano/Desktop/MLA/project/wsi-ssrl-rcc_project/\"\n",
    "    \"data/processed/dataset_7b24514c/webdataset2/test/patches-0000.tar\"\n",
    ")\n",
    "# ────────────────────────────────────────────────────────────────────────\n",
    "\n",
    "assert SRC_TAR_PATH.exists(), f\"❌ Source tar not found: {SRC_TAR_PATH}\"\n",
    "DST_TAR_PATH.parent.mkdir(parents=True, exist_ok=True)\n",
    "if DST_TAR_PATH.exists():\n",
    "    print(\"⚠️  Destination tar already exists → lo rinomino con .bak\")\n",
    "    backup_path = DST_TAR_PATH.with_suffix(\".bak\")\n",
    "    if backup_path.exists():\n",
    "        backup_path.unlink()  # elimina vecchio backup\n",
    "    DST_TAR_PATH.rename(backup_path)\n",
    "\n",
    "\n",
    "def sanitize(name: str) -> str:\n",
    "    \"\"\"\n",
    "    Remove every dot (.) from basename except the final extension dot.\n",
    "    Example: 'ccRCC_HP19.754_19587_111282.jpg' → 'ccRCC_HP19754_19587_111282.jpg'\n",
    "    \"\"\"\n",
    "    stem, ext = os.path.splitext(name)\n",
    "    stem = stem.replace(\".\", \"\")      # kill dots\n",
    "    return f\"{stem}{ext.lower()}\"\n",
    "\n",
    "with tarfile.open(SRC_TAR_PATH, \"r\") as src_tar, \\\n",
    "     tarfile.open(DST_TAR_PATH, \"w\") as dst_tar:\n",
    "\n",
    "    members = [m for m in src_tar.getmembers()\n",
    "               if m.isfile() and m.name.lower().endswith(\".jpg\")]\n",
    "    print(f\"📦 Source contains {len(members):,} .jpg members\")\n",
    "\n",
    "    for i, m in enumerate(tqdm(members, desc=\"Re-packing\")):\n",
    "        data = src_tar.extractfile(m).read()      # raw JPEG bytes\n",
    "        new_name = sanitize(Path(m.name).name)    # flat, safe filename\n",
    "        # Build new TarInfo\n",
    "        ti = tarfile.TarInfo(name=new_name)\n",
    "        ti.size = len(data)\n",
    "        dst_tar.addfile(ti, io.BytesIO(data))\n",
    "\n",
    "print(f\"✅ Finished. New shard saved → {DST_TAR_PATH}\")\n",
    "\n",
    "# ── Quick sanity check ────────────────────────────────────────────────\n",
    "import webdataset as wds\n",
    "n_files = sum(1 for _ in tarfile.open(DST_TAR_PATH, \"r\")\n",
    "              if _.isfile() and _.name.lower().endswith(\".jpg\"))\n",
    "n_samples = sum(1 for _ in wds.WebDataset(str(DST_TAR_PATH)).decode(\"pil\"))\n",
    "print(f\"🧾 JPG in tar   : {n_files:,}\")\n",
    "print(f\"🧪 Samples read : {n_samples:,}\")\n",
    "assert n_files == n_samples, \"‼️ mismatch – something is still wrong!\"\n",
    "# ────────────────────────────────────────────────────────────────────────\n"
   ]
  },
  {
   "cell_type": "code",
   "execution_count": 8,
   "id": "56aa18bc",
   "metadata": {},
   "outputs": [
    {
     "name": "stdout",
     "output_type": "stream",
     "text": [
      "✅ Dataset webdataset/test/patches-0000.tar: 614 samples\n",
      "✅ Dataset webdataset2/test/patches-0000.tar: 963 samples\n"
     ]
    }
   ],
   "source": [
    "import webdataset as wds\n",
    "# Dataset 1 (vecchia pipeline)\n",
    "webdataset1 = wds.WebDataset(\n",
    "    \"/Users/stefanoroybisignano/Desktop/MLA/project/wsi-ssrl-rcc_project/data/processed/dataset_7b24514c/webdataset/test/patches-0000.tar\"\n",
    ").decode(\"pil\")\n",
    "\n",
    "# Dataset 2 (nuova pipeline)\n",
    "webdataset2 = wds.WebDataset(\n",
    "    \"/Users/stefanoroybisignano/Desktop/MLA/project/wsi-ssrl-rcc_project/data/processed/dataset_7b24514c/webdataset2/test/patches-0000.tar\"\n",
    ").decode(\"pil\")\n",
    "\n",
    "count_1 = 0\n",
    "count_2 = 0\n",
    "\n",
    "# Conta i sample effettivamente leggibili\n",
    "count_1 = sum(1 for _ in webdataset1)\n",
    "count_2 = sum(1 for _ in webdataset2)\n",
    "print(f\"✅ Dataset webdataset/test/patches-0000.tar: {count_1} samples\")\n",
    "print(f\"✅ Dataset webdataset2/test/patches-0000.tar: {count_2} samples\")\n"
   ]
  },
  {
   "cell_type": "code",
   "execution_count": 9,
   "id": "85814759",
   "metadata": {},
   "outputs": [
    {
     "name": "stdout",
     "output_type": "stream",
     "text": [
      "🧪 Corrupted images: 0 / 963\n"
     ]
    }
   ],
   "source": [
    "\n",
    "from PIL import Image\n",
    "import tarfile\n",
    "import io\n",
    "\n",
    "tar_path =     \"/Users/stefanoroybisignano/Desktop/MLA/project/wsi-ssrl-rcc_project/data/processed/dataset_7b24514c/webdataset2/test/patches-0000.tar\"\n",
    "\n",
    "bad = []\n",
    "\n",
    "with tarfile.open(tar_path, \"r\") as tar:\n",
    "    members = tar.getmembers()\n",
    "    for member in members:\n",
    "        if member.isfile() and member.name.endswith(\".jpg\"):\n",
    "            try:\n",
    "                img = Image.open(tar.extractfile(member))\n",
    "                img.verify()  # checks if corrupted\n",
    "            except Exception as e:\n",
    "                bad.append((member.name, str(e)))\n",
    "\n",
    "print(f\"🧪 Corrupted images: {len(bad)} / {len(members)}\")\n",
    "if bad:\n",
    "    print(\"🚫 Esempio:\", bad[0]) "
   ]
  }
 ],
 "metadata": {
  "kernelspec": {
   "display_name": "wsi-ssrl",
   "language": "python",
   "name": "python3"
  },
  "language_info": {
   "codemirror_mode": {
    "name": "ipython",
    "version": 3
   },
   "file_extension": ".py",
   "mimetype": "text/x-python",
   "name": "python",
   "nbconvert_exporter": "python",
   "pygments_lexer": "ipython3",
   "version": "3.10.13"
  }
 },
 "nbformat": 4,
 "nbformat_minor": 5
}
