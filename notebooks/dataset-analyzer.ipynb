{
  "cells": [
    {
      "cell_type": "code",
      "execution_count": 1,
      "metadata": {},
      "outputs": [],
      "source": [
        "from pathlib import Path\n",
        "import os\n",
        "\n",
        "def get_dataset_dir():\n",
        "    try:\n",
        "        # Se siamo in Colab, esiste il pacchetto google.colab\n",
        "        import google.colab  # type: ignore\n",
        "        # Monta Drive (esegui questo una volta in ogni notebook Colab)\n",
        "        from google.colab import drive\n",
        "        drive.mount('/content/drive', force_remount=False)\n",
        "        return Path('/content/drive/MyDrive/Colab_Notebooks/RCC_WSIs')\n",
        "    except ImportError:\n",
        "        # Altrimenti siamo in locale con Drive for Desktop\n",
        "        local = (\n",
        "            Path.home()\n",
        "            / \"Library\"\n",
        "            / \"CloudStorage\"\n",
        "            / \"GoogleDrive-stefano2001roy@gmail.com\"\n",
        "            / \"Il mio Drive\"\n",
        "            / \"Colab_Notebooks\"\n",
        "            / \"RCC_WSIs\"\n",
        "        )\n",
        "        return local"
      ]
    },
    {
      "cell_type": "code",
      "execution_count": 2,
      "metadata": {},
      "outputs": [
        {
          "name": "stdout",
          "output_type": "stream",
          "text": [
            "Dataset directory: /Users/stefanoroybisignano/Library/CloudStorage/GoogleDrive-stefano2001roy@gmail.com/Il mio Drive/Colab_Notebooks/RCC_WSIs\n"
          ]
        }
      ],
      "source": [
        "DATASET_DIR = get_dataset_dir()\n",
        "assert DATASET_DIR.exists(), f\"Dataset directory non trovata: {DATASET_DIR}\"\n",
        "print(\"Dataset directory:\", DATASET_DIR)"
      ]
    },
    {
      "cell_type": "code",
      "execution_count": null,
      "metadata": {
        "colab": {
          "base_uri": "https://localhost:8080/"
        },
        "id": "m-3wMTl4_kme",
        "outputId": "ced78874-d302-4455-ac22-d518d9601842"
      },
      "outputs": [],
      "source": [
        "# 3) Collect metadata into a DataFrame\n",
        "import os\n",
        "import pandas as pd\n",
        "\n",
        "records = []\n",
        "for dirpath, dirs, files in os.walk(DATASET_DIR):\n",
        "    for f in files:\n",
        "        full = os.path.join(dirpath, f)\n",
        "        try:\n",
        "            size = os.path.getsize(full)\n",
        "        except OSError:\n",
        "            size = 0\n",
        "        rel_dir = os.path.relpath(dirpath, DATASET_DIR)\n",
        "        records.append({\n",
        "            'subfolder': rel_dir if rel_dir != '.' else '/',\n",
        "            'file_name': f,\n",
        "            'extension': os.path.splitext(f)[1].lower(),\n",
        "            'size_MB': size / 1024**2\n",
        "        })\n",
        "\n",
        "df = pd.DataFrame(records)\n",
        "\n",
        "# 4) Summarize by subfolder, aggregating correctly\n",
        "summary = df.groupby('subfolder').agg(\n",
        "    n_files      = ('file_name',     'count'),\n",
        "    total_MB     = ('size_MB', 'sum'),\n",
        "    extensions   = ('extension',    lambda s: sorted(s.unique()))\n",
        ").reset_index()\n",
        "\n",
        "print(summary)"
      ]
    },
    {
      "cell_type": "markdown",
      "metadata": {
        "id": "NdcrFjzx_wzx"
      },
      "source": [
        "Dataset analysis with GPT-4o"
      ]
    },
    {
      "cell_type": "markdown",
      "metadata": {
        "id": "me-fVpAv_uBG"
      },
      "source": [
        "| Category                    | Folder                    | # files | Total (MB)  | Extensions                                  | Description & Use                                                                      |\n",
        "| --------------------------- | ------------------------- | ------- | ----------- | ------------------------------------------- | -------------------------------------------------------------------------------------- |\n",
        "| **Original Datasets**       | `/`                       | 1       | 0.0002      | `.gdoc`                                     | Description file (Google Doc).                                                      |\n",
        "|                             | `CHROMO`                  | 12      | 43 365.6    | `.svs`                                      | Whole Slide Images of chromophobe tumors. Visualization with QuPath/ASAP.                      |\n",
        "|                             | `ONCOCYTOMA`              | 16      | 49 099.1    | `.svs`                                      | Whole Slide Images of oncocytomas.                                                             |\n",
        "|                             | `ccRCC`                   | 61      | 69 983.1    | `.scn`, `.py`                               | Whole Slide Images of clear-cell RCC (`.scn`); `wsi_manager.py` script                        |\n",
        "|                             | `pRCC`                    | 27      | 35 282.5    | `.scn`, `.xlsx`                             | Whole Slide Images of papillary RCC; Excel sheet for patient correspondence                  |\n",
        "|                             | `pre/ccRCC`               | 65      | 48 557.7    | `.scn`                                      | Additional \"pre\" patients for ccRCC (same structure as ccRCC)                         |\n",
        "|                             | `pre/pRCC`                | 22      | 14 906.5    | `.scn`                                      | Additional \"pre\" patients for pRCC                                                      |\n",
        "| **ROI Annotations**         | `Annotations_chromo`      | 14      | 3 445.0     | `.svs`, `.tif`, `.xlsx`                     | Multiresolution ROIs cropped from CHROMO; `.xlsx` list of patients/coordinates          |\n",
        "|                             | `Annotations_onco`      | 26      | 16 242.5    | `.svs`, `.tif`, `.xlsx`                     | Multiresolution ROIs cropped from ONCO; `.xlsx` list of patients/coordinates            |\n",
        "| **XML Metadata**            | `ccRCC/ccRCC_xml`         | 60      | 1.05        | `.xml`                                      | Region-of-interest files for ccRCC (define \"pure\" tumor areas)               |\n",
        "|                             | `pRCC/pRCC_xml`         | 26      | 0.36        | `.xml`                                      | ROI files for pRCC                                                                   |\n",
        "|                             | `pre/ccRCC/pre_ccRCC_xml` | 65      | 1.62        | `.xml`                                      | XML ROIs for pre/ccRCC folder                                                         |\n",
        "|                             | `pre/pRCC/pre_pRCC_xml` | 22      | 0.45        | `.xml`                                      | XML ROIs for pre/pRCC folder                                                          |\n",
        "| **Documentation and Scripts** | `README`                  | 5       | 964.1       | `.pickle`, `.py`, `.tif`, `.html`, `.ipynb` | Example notebook, HTML & Python WSI management script, pre-extracted crop pickle |"
      ]
    },
    {
      "cell_type": "code",
      "execution_count": null,
      "metadata": {
        "colab": {
          "base_uri": "https://localhost:8080/"
        },
        "id": "aT5jn7rg_vWv",
        "outputId": "a5fb2a29-e4b3-4303-c9ca-028029ab39ba"
      },
      "outputs": [],
      "source": [
        "!apt update && apt install -y openslide-tools\n",
        "!pip install openslide-python"
      ]
    },
    {
      "cell_type": "code",
      "execution_count": null,
      "metadata": {
        "id": "tmT5SCChCG60"
      },
      "outputs": [],
      "source": [
        "import os\n",
        "import pickle\n",
        "import openslide\n",
        "import numpy as np\n",
        "import matplotlib.pyplot as plt\n",
        "from wsi_manager import CropList, SectionManager"
      ]
    },
    {
      "cell_type": "code",
      "execution_count": null,
      "metadata": {
        "id": "khQo2UAhAEGW"
      },
      "outputs": [],
      "source": [
        "README_DIR = DATASET_DIR / \"README\"\n",
        "filepath_object = README_DIR / \"H19-754-IHC-ccRCC_crop_obj.pickle\"\n",
        "with open(filepath_object, \"rb\") as handle:\n",
        "    data = pickle.load(handle)"
      ]
    },
    {
      "cell_type": "markdown",
      "metadata": {
        "id": "JEFLrkIKD1XF"
      },
      "source": [
        "data is a CropList or similar object, with fields such as:\n",
        "\n",
        "indexes: list of dictionaries with info for each crop\n",
        "\n",
        "'mask': binary mask (e.g., tumor vs background)\n",
        "\n",
        "'left', 'top': coordinates in the WSI\n",
        "\n",
        "'size': size of the crop\n",
        "\n",
        "'level': zoom level\n",
        "\n",
        "'filepath_slide': source WSI file"
      ]
    },
    {
      "cell_type": "code",
      "execution_count": null,
      "metadata": {
        "id": "C5qKGphiBEhK"
      },
      "outputs": [],
      "source": [
        "#data.indexes"
      ]
    },
    {
      "cell_type": "markdown",
      "metadata": {
        "id": "PrFxNlI4Hqxm"
      },
      "source": [
        "Segmented binary mask highlighting Regions of Interest (ROIs) within a histological tissue patch, in the context of the RCC Whole Slide Images (WSIs) dataset"
      ]
    },
    {
      "cell_type": "code",
      "execution_count": null,
      "metadata": {
        "colab": {
          "base_uri": "https://localhost:8080/",
          "height": 423
        },
        "id": "sbwGSYzdCOV8",
        "outputId": "f7c007d3-a0ea-4db5-9cb5-326bd84ec3eb"
      },
      "outputs": [],
      "source": [
        "print(data.indexes[710]['mask'].shape)\n",
        "data.indexes[710]['mask']\n",
        "\n",
        "fig, ax = plt.subplots(1, 1)\n",
        "mask = data.indexes[500]['mask'].copy()\n",
        "mask[mask >= 0.3] = 255 #  You can change the thickness of the mask here\n",
        "ax.imshow(mask,  cmap='gray')\n",
        "ax.axis('off');"
      ]
    },
    {
      "cell_type": "markdown",
      "metadata": {
        "id": "6hLnMn5-H1w8"
      },
      "source": [
        "Cosa mostra l’immagine\n",
        "\n",
        "*   Nero (0): aree non rilevanti, cioè background o tessuto escluso dalla ROI.\n",
        "\n",
        "*   Bianco (255): contorni o aree che hanno superato la soglia di probabilità (≥ 0.3) nella maschera soft originale.\n",
        "\n",
        "Visivamente, sembra mostrare:\n",
        "\n",
        "\n",
        "*   strutture cellulari o glandulari, con pattern simili a setti fibrosi, membrane o pareti tra regioni.\n",
        "\n",
        "*   la maschera evidenzia bordature: questo può derivare da:\n",
        "\n",
        "  *   segmentazione automatica con soglia bassa (0.3), che tende a mantenere zone “frangiate”\n",
        "\n",
        "  *  annotazioni a contorno o probabilità più alte nei bordi delle strutture\n",
        "\n",
        "\n"
      ]
    },
    {
      "cell_type": "code",
      "execution_count": null,
      "metadata": {
        "colab": {
          "base_uri": "https://localhost:8080/"
        },
        "id": "4vuvuPyaCR5-",
        "outputId": "7bd998fe-54cf-4450-dd7d-0282e41db533"
      },
      "outputs": [],
      "source": [
        "filepath_wsi = os.path.basename(data.indexes[500]['filepath_slide'])\n",
        "print(filepath_wsi)  # Note that Windows see .scn files as tif, so you have to change filename\n",
        "wsi = openslide.OpenSlide(os.path.join(README_DIR, \"H19.754.IHC.ccRCC.tif\"))\n",
        "crop_corresponding_to_mask = wsi.read_region([data.indexes[500]['left'],\n",
        "                                              data.indexes[500]['top']],\n",
        "                                             data.indexes[500]['level'],\n",
        "                                             [data.indexes[500]['size'],\n",
        "                                              data.indexes[500]['size']])\n",
        "print(\"Shape is 2000x2000: {} and we have also alpha channel\".format(np.array(crop_corresponding_to_mask).shape))\n",
        "# Resize to mask size (512x512)\n",
        "crop_corresponding_to_mask_resized = np.array(crop_corresponding_to_mask.resize((512, 512)))"
      ]
    },
    {
      "cell_type": "code",
      "execution_count": null,
      "metadata": {
        "colab": {
          "base_uri": "https://localhost:8080/",
          "height": 385
        },
        "id": "ElO90qCvCdr_",
        "outputId": "d37892e9-7031-4fba-f39f-35be6400f718"
      },
      "outputs": [],
      "source": [
        "fig, ax = plt.subplots(1, 2, figsize=(20, 20))\n",
        "ax[1].imshow(crop_corresponding_to_mask_resized)\n",
        "ax[1].imshow(mask, cmap='jet', alpha=0.3)\n",
        "ax[1].axis('off');\n",
        "ax[0].imshow(crop_corresponding_to_mask_resized)\n",
        "ax[0].axis('off');"
      ]
    },
    {
      "cell_type": "markdown",
      "metadata": {
        "id": "iN2BSBncZUQs"
      },
      "source": [
        "## 🔍 Interpretation of the two images side-by-side\n",
        "\n",
        "### 🖼 Left: **Original Image (Crop)**\n",
        "\n",
        "*   This is a **crop** (initially 2000×2000 pixels, then resized to 512×512) taken from a WSI (`ccRCC`).\n",
        "*   It displays histological tissue stained with the classic H&E (hematoxylin and eosin) method.\n",
        "*   **Clear cells** are visible, which are characteristic of **clear cell RCC** (renal cell carcinoma).\n",
        "*   It serves as a pure visual reference.\n",
        "\n",
        "---\n",
        "\n",
        "### 🖼 Right: **Image with Mask Overlay**\n",
        "\n",
        "*   This is the same crop, but with a **binary mask overlay** applied using the **\"jet\" colormap**.\n",
        "*   The mask is blended with the image using an `alpha=0.3` value, making it appear **transparent**.\n",
        "*   The highlighted areas (e.g., in red) indicate regions marked as \"positive\" tissue (ROI) by the **model or annotator**."
      ]
    }
  ],
  "metadata": {
    "colab": {
      "provenance": []
    },
    "kernelspec": {
      "display_name": "wsi-ssrl",
      "language": "python",
      "name": "python3"
    },
    "language_info": {
      "codemirror_mode": {
        "name": "ipython",
        "version": 3
      },
      "file_extension": ".py",
      "mimetype": "text/x-python",
      "name": "python",
      "nbconvert_exporter": "python",
      "pygments_lexer": "ipython3",
      "version": "3.10.13"
    }
  },
  "nbformat": 4,
  "nbformat_minor": 0
}
